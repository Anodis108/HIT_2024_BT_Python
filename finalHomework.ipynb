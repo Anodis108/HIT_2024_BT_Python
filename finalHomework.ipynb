{
  "cells": [
    {
      "cell_type": "markdown",
      "metadata": {
        "id": "7N4tjV0RttOy"
      },
      "source": [
        "Hi các bạn, cũng đã đến những buổi cuối cùng của lớp Python Private, chúng ta đã đi qua nhiều kiến thức cơ bản cũng như các thư viện hữu dụng cho hướng phát triển của lớp sau này, bài tập này là bài tập tổng hợp lại kiến thức cho các bạn trước khi bước vào bài tập lớn cuối khóa nhé.\n",
        "\n",
        "Yêu cầu chung cho bài tập như sau:\n",
        "- Tạo folder finalHomework trên drive của mình, tạo bản sao từ google colab này và lưu lại trong đó\n",
        "- Ở các vị trị có dấu ... các bạn sẽ thay thế nó bằng câu lệnh phù hợp nhé\n",
        "- Có thể thêm cell code để tách rời các đoạn code cho rõ ràng hơn\n",
        "- Link dataset:\n",
        "  + Fifa World Cup 2022 Qatar: [data](https://drive.google.com/drive/folders/1toqv_FTlsi6-NfswfzKnK9GBYAE8i57L?usp=sharing)\n",
        "\n",
        "Anh mong các bạn sẽ làm bài tập đầy đủ để có thể review lại kiến thức của bản thân nhé !!!\n",
        "\n",
        "Yêu các bạn <3\n",
        "\n"
      ]
    },
    {
      "cell_type": "code",
      "execution_count": 20,
      "metadata": {
        "colab": {
          "base_uri": "https://localhost:8080/"
        },
        "id": "rG2j-JiBwBHD",
        "outputId": "fc6be9eb-453d-4626-da95-aeffab36d514"
      },
      "outputs": [
        {
          "name": "stdout",
          "output_type": "stream",
          "text": [
            "Drive already mounted at /content/drive; to attempt to forcibly remount, call drive.mount(\"/content/drive\", force_remount=True).\n"
          ]
        }
      ],
      "source": [
        "from google.colab import drive\n",
        "drive.mount('/content/drive')"
      ]
    },
    {
      "cell_type": "markdown",
      "metadata": {
        "id": "2nJGCVde7QYz"
      },
      "source": [
        "# Set up"
      ]
    },
    {
      "cell_type": "markdown",
      "metadata": {
        "id": "OaIqmAl26tfn"
      },
      "source": [
        "## Import các thư viện cần thiết"
      ]
    },
    {
      "cell_type": "code",
      "execution_count": 1,
      "metadata": {
        "id": "SQs3MtBEtoBM"
      },
      "outputs": [],
      "source": [
        "import numpy as np\n",
        "import matplotlib as plt\n",
        "import pandas as pd\n",
        "import cv2"
      ]
    },
    {
      "cell_type": "markdown",
      "metadata": {
        "id": "fJk_2UsOwjlY"
      },
      "source": [
        "## Kết nối với google drive"
      ]
    },
    {
      "cell_type": "code",
      "execution_count": null,
      "metadata": {
        "colab": {
          "base_uri": "https://localhost:8080/"
        },
        "id": "Y4Zf9gEAwo4f",
        "outputId": "c7fb8da4-05b6-48e0-d99b-75cfd4c1b2af"
      },
      "outputs": [
        {
          "name": "stdout",
          "output_type": "stream",
          "text": [
            "Drive already mounted at /content/drive; to attempt to forcibly remount, call drive.mount(\"/content/drive\", force_remount=True).\n"
          ]
        }
      ],
      "source": [
        "from google.colab import drive\n",
        "\n",
        "drive.mount('/content/drive')"
      ]
    },
    {
      "cell_type": "markdown",
      "metadata": {
        "id": "CrHj0eFjyV66"
      },
      "source": [
        "## Di chuyển đến thư mục chứa google colab"
      ]
    },
    {
      "cell_type": "code",
      "execution_count": null,
      "metadata": {
        "colab": {
          "base_uri": "https://localhost:8080/"
        },
        "id": "m3GoRYnSyFnY",
        "outputId": "40cacf7c-ca5a-43e2-e6ab-3802a563642c"
      },
      "outputs": [
        {
          "name": "stdout",
          "output_type": "stream",
          "text": [
            "/content/drive/MyDrive/Colab Notebooks\n"
          ]
        }
      ],
      "source": [
        "folder_path = '/content/drive/MyDrive/Colab Notebooks'\n",
        "%cd \"{folder_path}\""
      ]
    },
    {
      "cell_type": "markdown",
      "metadata": {
        "id": "sg7zIV2gyowz"
      },
      "source": [
        "## Upload file"
      ]
    },
    {
      "cell_type": "code",
      "execution_count": null,
      "metadata": {
        "id": "UxfxS5cTzEZ4"
      },
      "outputs": [],
      "source": [
        "# from google.colab import files\n",
        "# uploaded = files.upload()"
      ]
    },
    {
      "cell_type": "markdown",
      "metadata": {
        "id": "WJB8Vuyt8I8X"
      },
      "source": [
        "## List các file trong thư mục"
      ]
    },
    {
      "cell_type": "code",
      "execution_count": null,
      "metadata": {
        "colab": {
          "base_uri": "https://localhost:8080/"
        },
        "id": "MJ-gBUGt8ImB",
        "outputId": "89881e24-1925-443c-eecb-6c195679c95a"
      },
      "outputs": [
        {
          "name": "stdout",
          "output_type": "stream",
          "text": [
            "Untitled\n",
            "Bản sao của Perceptron + Logistic Regression.ipynb\n",
            " K neighbor nearest -- K means cluster.ipynb\n",
            "Bản sao của ssh.ipynb\n",
            "Untitled0.ipynb\n",
            "Bai Tap e Đông hihi.ipynb\n",
            "CNN.ipynb\n",
            "yolov8test.ipynb\n",
            "Phạm Đăng Đông Day2_Gradient-Descent.ipynb\n",
            "Untitled1.ipynb\n",
            "Bản sao của yolov8test2.ipynb\n",
            "yolov8test2.ipynb\n",
            "Bản sao của Digit_Recognition.ipynb\n",
            "RNN.ipynb\n",
            "Bản sao của donenst\n",
            "donenst.ipynb\n",
            "Bản sao của perceptual_loss_for_real_time_style_transfer.ipynb\n",
            "Phạm Đăng Đông ml_exam.ipynb\n",
            "Bai Tap e Đông.ipynb\n",
            "Mediapipe hands.ipynb\n",
            "Bản sao của Bản sao của hand_landmarker.ipynb\n",
            "NCKH.ipynb\n"
          ]
        }
      ],
      "source": [
        "import os\n",
        "\n",
        "files = os.listdir(folder_path)\n",
        "for file_name in files:\n",
        "    print(file_name)"
      ]
    },
    {
      "cell_type": "markdown",
      "metadata": {
        "id": "KAfNZmApG7q8"
      },
      "source": [
        "# Numpy"
      ]
    },
    {
      "cell_type": "code",
      "execution_count": 22,
      "metadata": {
        "id": "Qx6IzqyyG_5c"
      },
      "outputs": [],
      "source": [
        "# Init\n",
        "import random\n",
        "import numpy as np\n",
        "\n",
        "prices = list(range(1, 100))\n",
        "random.shuffle(prices)\n"
      ]
    },
    {
      "cell_type": "code",
      "execution_count": null,
      "metadata": {
        "id": "KvygxO4iJxo4"
      },
      "outputs": [],
      "source": [
        "# hàm ban đầu\n",
        "def find_max_down_fall(prices):\n",
        "  #1\n",
        "  min_right_to_left = [0 for i in range((len(prices)))] # khởi tạo 1 list toàn số 0 với kích thước bằng với mảng prices\n",
        "  #2\n",
        "  min_so_far = float('inf') # gán một giá trị lớn vô cùng cho min_so_far\n",
        "  #3\n",
        "  for i in range(len(prices) -1, -1, -1):\n",
        "    min_so_far = min(prices[i], min_so_far)\n",
        "    min_right_to_left[i] = min_so_far\n",
        "\n",
        "  # for i in min_right_to_left :\n",
        "  #   print(min_right_to_left[i] , end = \" \")\n",
        "  res = 0\n",
        "  #4\n",
        "  for i, buy in enumerate(prices):\n",
        "    worst_sell = min_right_to_left[i]\n",
        "    down_fall = (buy - worst_sell) / buy\n",
        "    res = max(res, down_fall)\n",
        "\n",
        "  return res"
      ]
    },
    {
      "cell_type": "code",
      "execution_count": null,
      "metadata": {
        "colab": {
          "base_uri": "https://localhost:8080/"
        },
        "id": "6SBdr8n2JyQw",
        "outputId": "dfcb6620-646a-4b61-f6dc-a839b5484097"
      },
      "outputs": [
        {
          "name": "stdout",
          "output_type": "stream",
          "text": [
            "44.8 µs ± 1.84 µs per loop (mean ± std. dev. of 7 runs, 10000 loops each)\n"
          ]
        }
      ],
      "source": [
        "# Tính thời gian thực hiện của hàm find_max_down_fall\n",
        "%timeit find_max_down_fall(prices)"
      ]
    },
    {
      "cell_type": "code",
      "execution_count": null,
      "metadata": {
        "id": "YR77Xtp5J15S"
      },
      "outputs": [],
      "source": [
        "# hàm sau khi được viết lại bằng numpy\n",
        "import numpy as np\n",
        "\n",
        "def find_max_down_fall_np(prices_np):\n",
        "    #1\n",
        "    min_right_to_left = np.zeros_like(prices)\n",
        "    #2\n",
        "    min_so_far = np.Infinity\n",
        "    #3\n",
        "    min_right_to_left = np.minimum.accumulate(prices_np[::-1])[::-1]\n",
        "    res = 0\n",
        "    buys = np.array(prices_np)\n",
        "    worst_sells = np.minimum.accumulate(min_right_to_left)\n",
        "    down_falls = (buys - worst_sells) / buys\n",
        "    res =  np.max(down_falls)\n",
        "    return res\n",
        "  # end your code"
      ]
    },
    {
      "cell_type": "code",
      "execution_count": null,
      "metadata": {
        "colab": {
          "base_uri": "https://localhost:8080/"
        },
        "id": "LlFjyl2KTGz3",
        "outputId": "3751ba9b-d08d-40c4-d841-695ac808b737"
      },
      "outputs": [
        {
          "name": "stdout",
          "output_type": "stream",
          "text": [
            "28\n",
            "<class 'list'>\n"
          ]
        }
      ],
      "source": [
        "# for i in prices :\n",
        "#   print(i , end = \" \")\n",
        "print(prices[0])\n",
        "print(type(prices))"
      ]
    },
    {
      "cell_type": "code",
      "execution_count": null,
      "metadata": {
        "colab": {
          "base_uri": "https://localhost:8080/"
        },
        "id": "GCXJHtzbJ3nC",
        "outputId": "69047d38-db52-4cdd-a929-1156eeacfce0"
      },
      "outputs": [
        {
          "name": "stdout",
          "output_type": "stream",
          "text": [
            "23.7 µs ± 1.06 µs per loop (mean ± std. dev. of 7 runs, 10000 loops each)\n"
          ]
        }
      ],
      "source": [
        "# Tính thời gian thực hiện của hàm find_max_down_fall sau khi được viết lại bằng numpy với thời gian kì vọng nhanh hơn khoảng 100 lần\n",
        "# start your code here\n",
        "prices_np = np.array(prices)\n",
        "# end your code\n",
        "%timeit find_max_down_fall_np(prices_np)"
      ]
    },
    {
      "cell_type": "code",
      "execution_count": null,
      "metadata": {
        "colab": {
          "base_uri": "https://localhost:8080/"
        },
        "id": "q0XIxNE7VPvx",
        "outputId": "fd359317-b4a2-48f6-ca00-75a399fb1c2d"
      },
      "outputs": [
        {
          "name": "stdout",
          "output_type": "stream",
          "text": [
            "28\n",
            "<class 'numpy.ndarray'>\n"
          ]
        }
      ],
      "source": [
        "print(prices_np[0])\n",
        "print(type(prices_np))"
      ]
    },
    {
      "cell_type": "code",
      "execution_count": null,
      "metadata": {
        "colab": {
          "base_uri": "https://localhost:8080/"
        },
        "id": "H3q6aJrGJ69R",
        "outputId": "93d478aa-bb9c-4b47-eb80-15282cc522a3"
      },
      "outputs": [
        {
          "data": {
            "text/plain": [
              "False"
            ]
          },
          "execution_count": 18,
          "metadata": {},
          "output_type": "execute_result"
        }
      ],
      "source": [
        "# so sánh kết quả\n",
        "find_max_down_fall(prices) == find_max_down_fall_np(prices_np)\n"
      ]
    },
    {
      "cell_type": "markdown",
      "metadata": {
        "id": "P1TFqBTO7Ghy"
      },
      "source": [
        "# Pandas + Matplotlib"
      ]
    },
    {
      "cell_type": "markdown",
      "metadata": {
        "id": "LExKcCNc798S"
      },
      "source": [
        "## Gọi file csv"
      ]
    },
    {
      "cell_type": "code",
      "execution_count": 117,
      "metadata": {
        "id": "0LJZcOob79fQ"
      },
      "outputs": [],
      "source": [
        "df_matches = pd.read_csv(\"matches_world_cup_2022_catar.csv\")\n",
        "df_events = (pd.DataFrame(df_matches[['events_list']]))"
      ]
    },
    {
      "cell_type": "markdown",
      "metadata": {
        "id": "3GKYg8NP7AkW"
      },
      "source": [
        "## Hiển thị 5 dòng đầu của dataframe"
      ]
    },
    {
      "cell_type": "code",
      "execution_count": 116,
      "metadata": {},
      "outputs": [
        {
          "data": {
            "text/plain": [
              "<bound method DataFrame.info of                                           events_list\n",
              "0   [{'event_team': 'home', 'event_time': \" 23' \",...\n",
              "1   [{'event_team': 'home', 'event_time': \" 7' \", ...\n",
              "2   [{'event_team': 'home', 'event_time': \" 5' \", ...\n",
              "3   [{'event_team': 'away', 'event_time': \" 32' \",...\n",
              "4   [{'event_team': 'away', 'event_time': \" 17' \",...\n",
              "..                                                ...\n",
              "59  [{'event_team': 'home', 'event_time': \" 10' \",...\n",
              "60  [{'event_team': 'home', 'event_time': \" 11' \",...\n",
              "61  [{'event_team': 'away', 'event_time': \" 56' \",...\n",
              "62  [{'event_team': 'away', 'event_time': \" 20' \",...\n",
              "63  [{'event_team': 'away', 'event_time': \" 4' \", ...\n",
              "\n",
              "[64 rows x 1 columns]>"
            ]
          },
          "execution_count": 116,
          "metadata": {},
          "output_type": "execute_result"
        }
      ],
      "source": [
        "df_events.info"
      ]
    },
    {
      "cell_type": "code",
      "execution_count": 118,
      "metadata": {},
      "outputs": [
        {
          "name": "stdout",
          "output_type": "stream",
          "text": [
            "[{'event_team': 'home', 'event_time': \" 23' \", 'event_type': 'Penalty', 'action_player_1': ' Lionel Messi ', 'action_player_2': ' Penalty '}, {'event_team': 'home', 'event_time': \" 36' \", 'event_type': 'Goal', 'action_player_1': ' Ángel Di María ', 'action_player_2': ' Alexis Mac Allister '}, {'event_team': 'away', 'event_time': \" 41' \", 'event_type': 'Substitution', 'action_player_1': ' Randal Kolo Muani ', 'action_player_2': ' Ousmane Dembélé '}, {'event_team': 'away', 'event_time': \" 41' \", 'event_type': 'Substitution', 'action_player_1': ' Marcus Thuram ', 'action_player_2': ' Olivier Giroud '}, {'event_team': 'home', 'event_time': \" 52' \", 'event_type': 'Yellow card', 'action_player_1': ' Enzo Fernández '}, {'event_team': 'away', 'event_time': \" 55' \", 'event_type': 'Yellow card', 'action_player_1': ' Adrien Rabiot '}, {'event_team': 'home', 'event_time': \" 64' \", 'event_type': 'Substitution', 'action_player_1': ' Marcos Acuña ', 'action_player_2': ' Ángel Di María '}, {'event_team': 'away', 'event_time': \" 71' \", 'event_type': 'Substitution', 'action_player_1': ' Eduardo Camavinga ', 'action_player_2': ' Theo Hernandez '}, {'event_team': 'away', 'event_time': \" 71' \", 'event_type': 'Substitution', 'action_player_1': ' Kingsley Coman ', 'action_player_2': ' Antoine Griezmann '}, {'event_team': 'away', 'event_time': \" 80' \", 'event_type': 'Penalty', 'action_player_1': ' Kylian Mbappé ', 'action_player_2': ' Penalty '}, {'event_team': 'away', 'event_time': \" 81' \", 'event_type': 'Goal', 'action_player_1': ' Kylian Mbappé ', 'action_player_2': ' Marcus Thuram '}, {'event_team': 'away', 'event_time': \" 87' \", 'event_type': 'Yellow card', 'action_player_1': ' Marcus Thuram '}, {'event_team': 'away', 'event_time': \" 95' \", 'event_type': 'Yellow card', 'action_player_1': ' Olivier Giroud '}, {'event_team': 'home', 'event_time': \" 98' \", 'event_type': 'Yellow card', 'action_player_1': ' Marcos Acuña '}, {'event_team': 'home', 'event_time': \" 90' \", 'event_type': 'Substitution', 'action_player_1': ' Gonzalo Montiel ', 'action_player_2': ' Nahuel Molina '}, {'event_team': 'away', 'event_time': \" 96' \", 'event_type': 'Substitution', 'action_player_1': ' Youssouf Fofana ', 'action_player_2': ' Adrien Rabiot '}, {'event_team': 'home', 'event_time': \" 102' \", 'event_type': 'Substitution', 'action_player_1': ' Leandro Paredes ', 'action_player_2': ' Rodrigo De Paul '}, {'event_team': 'home', 'event_time': \" 103' \", 'event_type': 'Substitution', 'action_player_1': ' Lautaro Martínez ', 'action_player_2': ' Julián Álvarez '}, {'event_team': 'home', 'event_time': \" 108' \", 'event_type': 'Goal', 'action_player_1': ' Lionel Messi '}, {'event_team': 'away', 'event_time': \" 113' \", 'event_type': 'Substitution', 'action_player_1': ' Ibrahima Konaté ', 'action_player_2': ' Raphaël Varane '}, {'event_team': 'home', 'event_time': \" 114' \", 'event_type': 'Yellow card', 'action_player_1': ' Leandro Paredes '}, {'event_team': 'home', 'event_time': \" 116' \", 'event_type': 'Yellow card', 'action_player_1': ' Gonzalo Montiel '}, {'event_team': 'home', 'event_time': \" 116' \", 'event_type': 'Substitution', 'action_player_1': ' Germán Pezzella ', 'action_player_2': ' Alexis Mac Allister '}, {'event_team': 'away', 'event_time': \" 118' \", 'event_type': 'Penalty', 'action_player_1': ' Kylian Mbappé ', 'action_player_2': ' Penalty '}, {'event_team': 'home', 'event_time': \" 121' \", 'event_type': 'Substitution', 'action_player_1': ' Paulo Dybala ', 'action_player_2': ' Nicolás Tagliafico '}, {'event_team': 'away', 'event_time': \" 121' \", 'event_type': 'Substitution', 'action_player_1': ' Axel Disasi ', 'action_player_2': ' Jules Koundé '}, {'event_team': 'away', 'event_time': False, 'event_type': 'PK', 'event_result': 'Goal', 'event_player': ' Kylian Mbappé '}, {'event_team': 'home', 'event_time': False, 'event_type': 'PK', 'event_result': 'Goal', 'event_player': ' Lionel Messi '}, {'event_team': 'away', 'event_time': False, 'event_type': 'PK', 'event_result': 'Missed', 'event_player': ' Kingsley Coman '}, {'event_team': 'home', 'event_time': False, 'event_type': 'PK', 'event_result': 'Goal', 'event_player': ' Paulo Dybala '}, {'event_team': 'away', 'event_time': False, 'event_type': 'PK', 'event_result': 'Missed', 'event_player': ' Aurélien Tchouaméni '}, {'event_team': 'home', 'event_time': False, 'event_type': 'PK', 'event_result': 'Goal', 'event_player': ' Leandro Paredes '}, {'event_team': 'away', 'event_time': False, 'event_type': 'PK', 'event_result': 'Goal', 'event_player': ' Randal Kolo Muani '}, {'event_team': 'home', 'event_time': False, 'event_type': 'PK', 'event_result': 'Goal', 'event_player': ' Gonzalo Montiel '}, {'event_team': 'home', 'event_time': \" 126' \", 'event_type': 'Yellow card', 'action_player_1': ' Emiliano Martínez '}]\n"
          ]
        }
      ],
      "source": [
        "a = df_events.iloc[0][0]\n",
        "# type(a)\n",
        "# a.split(',')\n",
        "# a = list(a)\n",
        "print(a)\n",
        "b = df_events.iloc[1][0]\n"
      ]
    },
    {
      "cell_type": "code",
      "execution_count": 83,
      "metadata": {},
      "outputs": [
        {
          "name": "stdout",
          "output_type": "stream",
          "text": [
            "                                          events_list\n",
            "0   [{'event_team': 'home', 'event_time': \" 23' \",...\n",
            "1   [{'event_team': 'home', 'event_time': \" 7' \", ...\n",
            "2   [{'event_team': 'home', 'event_time': \" 5' \", ...\n",
            "3   [{'event_team': 'away', 'event_time': \" 32' \",...\n",
            "4   [{'event_team': 'away', 'event_time': \" 17' \",...\n",
            "..                                                ...\n",
            "59  [{'event_team': 'home', 'event_time': \" 10' \",...\n",
            "60  [{'event_team': 'home', 'event_time': \" 11' \",...\n",
            "61  [{'event_team': 'away', 'event_time': \" 56' \",...\n",
            "62  [{'event_team': 'away', 'event_time': \" 20' \",...\n",
            "63  [{'event_team': 'away', 'event_time': \" 4' \", ...\n",
            "\n",
            "[64 rows x 1 columns]\n"
          ]
        }
      ],
      "source": [
        "print(df_events)"
      ]
    },
    {
      "cell_type": "code",
      "execution_count": 120,
      "metadata": {},
      "outputs": [
        {
          "data": {
            "text/plain": [
              "'[{\\'event_team\\': \\'home\\', \\'event_time\\': \" 23\\' \", \\'event_type\\': \\'Penalty\\', \\'action_player_1\\': \\' Lionel Messi \\', \\'action_player_2\\': \\' Penalty \\'}, {\\'event_team\\': \\'home\\', \\'event_time\\': \" 36\\' \", \\'event_type\\': \\'Goal\\', \\'action_player_1\\': \\' Ángel Di María \\', \\'action_player_2\\': \\' Alexis Mac Allister \\'}, {\\'event_team\\': \\'away\\', \\'event_time\\': \" 41\\' \", \\'event_type\\': \\'Substitution\\', \\'action_player_1\\': \\' Randal Kolo Muani \\', \\'action_player_2\\': \\' Ousmane Dembélé \\'}, {\\'event_team\\': \\'away\\', \\'event_time\\': \" 41\\' \", \\'event_type\\': \\'Substitution\\', \\'action_player_1\\': \\' Marcus Thuram \\', \\'action_player_2\\': \\' Olivier Giroud \\'}, {\\'event_team\\': \\'home\\', \\'event_time\\': \" 52\\' \", \\'event_type\\': \\'Yellow card\\', \\'action_player_1\\': \\' Enzo Fernández \\'}, {\\'event_team\\': \\'away\\', \\'event_time\\': \" 55\\' \", \\'event_type\\': \\'Yellow card\\', \\'action_player_1\\': \\' Adrien Rabiot \\'}, {\\'event_team\\': \\'home\\', \\'event_time\\': \" 64\\' \", \\'event_type\\': \\'Substitution\\', \\'action_player_1\\': \\' Marcos Acuña \\', \\'action_player_2\\': \\' Ángel Di María \\'}, {\\'event_team\\': \\'away\\', \\'event_time\\': \" 71\\' \", \\'event_type\\': \\'Substitution\\', \\'action_player_1\\': \\' Eduardo Camavinga \\', \\'action_player_2\\': \\' Theo Hernandez \\'}, {\\'event_team\\': \\'away\\', \\'event_time\\': \" 71\\' \", \\'event_type\\': \\'Substitution\\', \\'action_player_1\\': \\' Kingsley Coman \\', \\'action_player_2\\': \\' Antoine Griezmann \\'}, {\\'event_team\\': \\'away\\', \\'event_time\\': \" 80\\' \", \\'event_type\\': \\'Penalty\\', \\'action_player_1\\': \\' Kylian Mbappé \\', \\'action_player_2\\': \\' Penalty \\'}, {\\'event_team\\': \\'away\\', \\'event_time\\': \" 81\\' \", \\'event_type\\': \\'Goal\\', \\'action_player_1\\': \\' Kylian Mbappé \\', \\'action_player_2\\': \\' Marcus Thuram \\'}, {\\'event_team\\': \\'away\\', \\'event_time\\': \" 87\\' \", \\'event_type\\': \\'Yellow card\\', \\'action_player_1\\': \\' Marcus Thuram \\'}, {\\'event_team\\': \\'away\\', \\'event_time\\': \" 95\\' \", \\'event_type\\': \\'Yellow card\\', \\'action_player_1\\': \\' Olivier Giroud \\'}, {\\'event_team\\': \\'home\\', \\'event_time\\': \" 98\\' \", \\'event_type\\': \\'Yellow card\\', \\'action_player_1\\': \\' Marcos Acuña \\'}, {\\'event_team\\': \\'home\\', \\'event_time\\': \" 90\\' \", \\'event_type\\': \\'Substitution\\', \\'action_player_1\\': \\' Gonzalo Montiel \\', \\'action_player_2\\': \\' Nahuel Molina \\'}, {\\'event_team\\': \\'away\\', \\'event_time\\': \" 96\\' \", \\'event_type\\': \\'Substitution\\', \\'action_player_1\\': \\' Youssouf Fofana \\', \\'action_player_2\\': \\' Adrien Rabiot \\'}, {\\'event_team\\': \\'home\\', \\'event_time\\': \" 102\\' \", \\'event_type\\': \\'Substitution\\', \\'action_player_1\\': \\' Leandro Paredes \\', \\'action_player_2\\': \\' Rodrigo De Paul \\'}, {\\'event_team\\': \\'home\\', \\'event_time\\': \" 103\\' \", \\'event_type\\': \\'Substitution\\', \\'action_player_1\\': \\' Lautaro Martínez \\', \\'action_player_2\\': \\' Julián Álvarez \\'}, {\\'event_team\\': \\'home\\', \\'event_time\\': \" 108\\' \", \\'event_type\\': \\'Goal\\', \\'action_player_1\\': \\' Lionel Messi \\'}, {\\'event_team\\': \\'away\\', \\'event_time\\': \" 113\\' \", \\'event_type\\': \\'Substitution\\', \\'action_player_1\\': \\' Ibrahima Konaté \\', \\'action_player_2\\': \\' Raphaël Varane \\'}, {\\'event_team\\': \\'home\\', \\'event_time\\': \" 114\\' \", \\'event_type\\': \\'Yellow card\\', \\'action_player_1\\': \\' Leandro Paredes \\'}, {\\'event_team\\': \\'home\\', \\'event_time\\': \" 116\\' \", \\'event_type\\': \\'Yellow card\\', \\'action_player_1\\': \\' Gonzalo Montiel \\'}, {\\'event_team\\': \\'home\\', \\'event_time\\': \" 116\\' \", \\'event_type\\': \\'Substitution\\', \\'action_player_1\\': \\' Germán Pezzella \\', \\'action_player_2\\': \\' Alexis Mac Allister \\'}, {\\'event_team\\': \\'away\\', \\'event_time\\': \" 118\\' \", \\'event_type\\': \\'Penalty\\', \\'action_player_1\\': \\' Kylian Mbappé \\', \\'action_player_2\\': \\' Penalty \\'}, {\\'event_team\\': \\'home\\', \\'event_time\\': \" 121\\' \", \\'event_type\\': \\'Substitution\\', \\'action_player_1\\': \\' Paulo Dybala \\', \\'action_player_2\\': \\' Nicolás Tagliafico \\'}, {\\'event_team\\': \\'away\\', \\'event_time\\': \" 121\\' \", \\'event_type\\': \\'Substitution\\', \\'action_player_1\\': \\' Axel Disasi \\', \\'action_player_2\\': \\' Jules Koundé \\'}, {\\'event_team\\': \\'away\\', \\'event_time\\': False, \\'event_type\\': \\'PK\\', \\'event_result\\': \\'Goal\\', \\'event_player\\': \\' Kylian Mbappé \\'}, {\\'event_team\\': \\'home\\', \\'event_time\\': False, \\'event_type\\': \\'PK\\', \\'event_result\\': \\'Goal\\', \\'event_player\\': \\' Lionel Messi \\'}, {\\'event_team\\': \\'away\\', \\'event_time\\': False, \\'event_type\\': \\'PK\\', \\'event_result\\': \\'Missed\\', \\'event_player\\': \\' Kingsley Coman \\'}, {\\'event_team\\': \\'home\\', \\'event_time\\': False, \\'event_type\\': \\'PK\\', \\'event_result\\': \\'Goal\\', \\'event_player\\': \\' Paulo Dybala \\'}, {\\'event_team\\': \\'away\\', \\'event_time\\': False, \\'event_type\\': \\'PK\\', \\'event_result\\': \\'Missed\\', \\'event_player\\': \\' Aurélien Tchouaméni \\'}, {\\'event_team\\': \\'home\\', \\'event_time\\': False, \\'event_type\\': \\'PK\\', \\'event_result\\': \\'Goal\\', \\'event_player\\': \\' Leandro Paredes \\'}, {\\'event_team\\': \\'away\\', \\'event_time\\': False, \\'event_type\\': \\'PK\\', \\'event_result\\': \\'Goal\\', \\'event_player\\': \\' Randal Kolo Muani \\'}, {\\'event_team\\': \\'home\\', \\'event_time\\': False, \\'event_type\\': \\'PK\\', \\'event_result\\': \\'Goal\\', \\'event_player\\': \\' Gonzalo Montiel \\'}, {\\'event_team\\': \\'home\\', \\'event_time\\': \" 126\\' \", \\'event_type\\': \\'Yellow card\\', \\'action_player_1\\': \\' Emiliano Martínez \\'}]'"
            ]
          },
          "execution_count": 120,
          "metadata": {},
          "output_type": "execute_result"
        }
      ],
      "source": [
        "c = df_events.iloc[0][0]\n",
        "# a = a.strip(\"[]\")\n",
        "# a = a.split(\",\")\n",
        "# for i in a[0]:\n",
        "#     print(i)\n",
        "\n",
        "c\n"
      ]
    },
    {
      "cell_type": "code",
      "execution_count": 87,
      "metadata": {},
      "outputs": [
        {
          "data": {
            "text/html": [
              "<div>\n",
              "<style scoped>\n",
              "    .dataframe tbody tr th:only-of-type {\n",
              "        vertical-align: middle;\n",
              "    }\n",
              "\n",
              "    .dataframe tbody tr th {\n",
              "        vertical-align: top;\n",
              "    }\n",
              "\n",
              "    .dataframe thead th {\n",
              "        text-align: right;\n",
              "    }\n",
              "</style>\n",
              "<table border=\"1\" class=\"dataframe\">\n",
              "  <thead>\n",
              "    <tr style=\"text-align: right;\">\n",
              "      <th></th>\n",
              "      <th>event_team</th>\n",
              "      <th>event_time</th>\n",
              "      <th>event_type</th>\n",
              "      <th>action_player_1</th>\n",
              "      <th>action_player_2</th>\n",
              "      <th>event_result</th>\n",
              "      <th>event_player</th>\n",
              "    </tr>\n",
              "  </thead>\n",
              "  <tbody>\n",
              "    <tr>\n",
              "      <th>0</th>\n",
              "      <td>home</td>\n",
              "      <td>23'</td>\n",
              "      <td>Penalty</td>\n",
              "      <td>Lionel Messi</td>\n",
              "      <td>Penalty</td>\n",
              "      <td>NaN</td>\n",
              "      <td>NaN</td>\n",
              "    </tr>\n",
              "    <tr>\n",
              "      <th>1</th>\n",
              "      <td>home</td>\n",
              "      <td>36'</td>\n",
              "      <td>Goal</td>\n",
              "      <td>Ángel Di María</td>\n",
              "      <td>Alexis Mac Allister</td>\n",
              "      <td>NaN</td>\n",
              "      <td>NaN</td>\n",
              "    </tr>\n",
              "    <tr>\n",
              "      <th>2</th>\n",
              "      <td>away</td>\n",
              "      <td>41'</td>\n",
              "      <td>Substitution</td>\n",
              "      <td>Randal Kolo Muani</td>\n",
              "      <td>Ousmane Dembélé</td>\n",
              "      <td>NaN</td>\n",
              "      <td>NaN</td>\n",
              "    </tr>\n",
              "    <tr>\n",
              "      <th>3</th>\n",
              "      <td>away</td>\n",
              "      <td>41'</td>\n",
              "      <td>Substitution</td>\n",
              "      <td>Marcus Thuram</td>\n",
              "      <td>Olivier Giroud</td>\n",
              "      <td>NaN</td>\n",
              "      <td>NaN</td>\n",
              "    </tr>\n",
              "    <tr>\n",
              "      <th>4</th>\n",
              "      <td>home</td>\n",
              "      <td>52'</td>\n",
              "      <td>Yellow card</td>\n",
              "      <td>Enzo Fernández</td>\n",
              "      <td>NaN</td>\n",
              "      <td>NaN</td>\n",
              "      <td>NaN</td>\n",
              "    </tr>\n",
              "    <tr>\n",
              "      <th>...</th>\n",
              "      <td>...</td>\n",
              "      <td>...</td>\n",
              "      <td>...</td>\n",
              "      <td>...</td>\n",
              "      <td>...</td>\n",
              "      <td>...</td>\n",
              "      <td>...</td>\n",
              "    </tr>\n",
              "    <tr>\n",
              "      <th>1038</th>\n",
              "      <td>home</td>\n",
              "      <td>72'</td>\n",
              "      <td>Substitution</td>\n",
              "      <td>Mohammed Muntari</td>\n",
              "      <td>Almoez Ali</td>\n",
              "      <td>NaN</td>\n",
              "      <td>NaN</td>\n",
              "    </tr>\n",
              "    <tr>\n",
              "      <th>1039</th>\n",
              "      <td>away</td>\n",
              "      <td>77'</td>\n",
              "      <td>Substitution</td>\n",
              "      <td>José Cifuentes</td>\n",
              "      <td>Enner Valencia</td>\n",
              "      <td>NaN</td>\n",
              "      <td>NaN</td>\n",
              "    </tr>\n",
              "    <tr>\n",
              "      <th>1040</th>\n",
              "      <td>home</td>\n",
              "      <td>78'</td>\n",
              "      <td>Yellow card</td>\n",
              "      <td>Akram Afif</td>\n",
              "      <td>NaN</td>\n",
              "      <td>NaN</td>\n",
              "      <td>NaN</td>\n",
              "    </tr>\n",
              "    <tr>\n",
              "      <th>1041</th>\n",
              "      <td>away</td>\n",
              "      <td>90'</td>\n",
              "      <td>Substitution</td>\n",
              "      <td>Kevin Rodríguez</td>\n",
              "      <td>Michael Estrada</td>\n",
              "      <td>NaN</td>\n",
              "      <td>NaN</td>\n",
              "    </tr>\n",
              "    <tr>\n",
              "      <th>1042</th>\n",
              "      <td>away</td>\n",
              "      <td>90'</td>\n",
              "      <td>Substitution</td>\n",
              "      <td>Alan Franco</td>\n",
              "      <td>Moisés Caicedo</td>\n",
              "      <td>NaN</td>\n",
              "      <td>NaN</td>\n",
              "    </tr>\n",
              "  </tbody>\n",
              "</table>\n",
              "<p>1043 rows × 7 columns</p>\n",
              "</div>"
            ],
            "text/plain": [
              "     event_team event_time    event_type      action_player_1  \\\n",
              "0          home       23'        Penalty        Lionel Messi    \n",
              "1          home       36'           Goal      Ángel Di María    \n",
              "2          away       41'   Substitution   Randal Kolo Muani    \n",
              "3          away       41'   Substitution       Marcus Thuram    \n",
              "4          home       52'    Yellow card      Enzo Fernández    \n",
              "...         ...        ...           ...                  ...   \n",
              "1038       home       72'   Substitution    Mohammed Muntari    \n",
              "1039       away       77'   Substitution      José Cifuentes    \n",
              "1040       home       78'    Yellow card          Akram Afif    \n",
              "1041       away       90'   Substitution     Kevin Rodríguez    \n",
              "1042       away       90'   Substitution         Alan Franco    \n",
              "\n",
              "            action_player_2 event_result event_player  \n",
              "0                  Penalty           NaN          NaN  \n",
              "1      Alexis Mac Allister           NaN          NaN  \n",
              "2          Ousmane Dembélé           NaN          NaN  \n",
              "3           Olivier Giroud           NaN          NaN  \n",
              "4                       NaN          NaN          NaN  \n",
              "...                     ...          ...          ...  \n",
              "1038            Almoez Ali           NaN          NaN  \n",
              "1039        Enner Valencia           NaN          NaN  \n",
              "1040                    NaN          NaN          NaN  \n",
              "1041       Michael Estrada           NaN          NaN  \n",
              "1042        Moisés Caicedo           NaN          NaN  \n",
              "\n",
              "[1043 rows x 7 columns]"
            ]
          },
          "execution_count": 87,
          "metadata": {},
          "output_type": "execute_result"
        }
      ],
      "source": [
        "import ast\n",
        "\n",
        "a = pd.DataFrame()\n",
        "for i in df_events['events_list']:\n",
        "    i = pd.DataFrame(ast.literal_eval(i))\n",
        "    a = pd.concat([a, i], axis=0, ignore_index=True)\n",
        "a"
      ]
    },
    {
      "cell_type": "code",
      "execution_count": 5,
      "metadata": {
        "colab": {
          "base_uri": "https://localhost:8080/",
          "height": 206
        },
        "id": "8QUFbwHZvzvS",
        "outputId": "63764d06-ceba-44ba-a1bc-583ed8db21ea"
      },
      "outputs": [
        {
          "data": {
            "text/html": [
              "<div>\n",
              "<style scoped>\n",
              "    .dataframe tbody tr th:only-of-type {\n",
              "        vertical-align: middle;\n",
              "    }\n",
              "\n",
              "    .dataframe tbody tr th {\n",
              "        vertical-align: top;\n",
              "    }\n",
              "\n",
              "    .dataframe thead th {\n",
              "        text-align: right;\n",
              "    }\n",
              "</style>\n",
              "<table border=\"1\" class=\"dataframe\">\n",
              "  <thead>\n",
              "    <tr style=\"text-align: right;\">\n",
              "      <th></th>\n",
              "      <th>events_list</th>\n",
              "    </tr>\n",
              "  </thead>\n",
              "  <tbody>\n",
              "    <tr>\n",
              "      <th>0</th>\n",
              "      <td>[{'event_team': 'home', 'event_time': \" 23' \",...</td>\n",
              "    </tr>\n",
              "    <tr>\n",
              "      <th>1</th>\n",
              "      <td>[{'event_team': 'home', 'event_time': \" 7' \", ...</td>\n",
              "    </tr>\n",
              "    <tr>\n",
              "      <th>2</th>\n",
              "      <td>[{'event_team': 'home', 'event_time': \" 5' \", ...</td>\n",
              "    </tr>\n",
              "    <tr>\n",
              "      <th>3</th>\n",
              "      <td>[{'event_team': 'away', 'event_time': \" 32' \",...</td>\n",
              "    </tr>\n",
              "    <tr>\n",
              "      <th>4</th>\n",
              "      <td>[{'event_team': 'away', 'event_time': \" 17' \",...</td>\n",
              "    </tr>\n",
              "  </tbody>\n",
              "</table>\n",
              "</div>"
            ],
            "text/plain": [
              "                                         events_list\n",
              "0  [{'event_team': 'home', 'event_time': \" 23' \",...\n",
              "1  [{'event_team': 'home', 'event_time': \" 7' \", ...\n",
              "2  [{'event_team': 'home', 'event_time': \" 5' \", ...\n",
              "3  [{'event_team': 'away', 'event_time': \" 32' \",...\n",
              "4  [{'event_team': 'away', 'event_time': \" 17' \",..."
            ]
          },
          "execution_count": 5,
          "metadata": {},
          "output_type": "execute_result"
        }
      ],
      "source": [
        "df_matches.head(5)\n",
        "df_events.head(5)"
      ]
    },
    {
      "cell_type": "markdown",
      "metadata": {
        "id": "IXiLmKUVEM1B"
      },
      "source": [
        "## Hiển thị 5 dòng cuối của các dataframe"
      ]
    },
    {
      "cell_type": "code",
      "execution_count": null,
      "metadata": {
        "id": "GwkoK2dhEL1S"
      },
      "outputs": [],
      "source": [
        "df_matches.tail(5)"
      ]
    },
    {
      "cell_type": "markdown",
      "metadata": {
        "id": "h60ItSAnyW2P"
      },
      "source": [
        "## In ra thông tin của từng dataframe"
      ]
    },
    {
      "cell_type": "code",
      "execution_count": null,
      "metadata": {
        "id": "YlAUSIFJ4wNl"
      },
      "outputs": [],
      "source": [
        "df_matches.info()\n"
      ]
    },
    {
      "cell_type": "code",
      "execution_count": null,
      "metadata": {
        "id": "-daXQ4Sm1EPy"
      },
      "outputs": [],
      "source": [
        "df_events.info()"
      ]
    },
    {
      "cell_type": "markdown",
      "metadata": {
        "id": "tIn8C_W-1UHL"
      },
      "source": [
        "- Hãy kiểm tra xem các data frame có giá trị null không\n",
        "- Nếu có hãy trình bày cách giải quyết của bản thân đối với dữ liệu null đó, và code cách giải quyết dưới cell code bên dưới\n",
        "- Nếu không có cách giải quyết thì cũng ghi là không có cách giải quyết\n"
      ]
    },
    {
      "cell_type": "markdown",
      "metadata": {
        "id": "uCLO1ckZ2rTa"
      },
      "source": [
        "Ghi cách giải quyết của bản thân vào đây: ..."
      ]
    },
    {
      "cell_type": "code",
      "execution_count": null,
      "metadata": {
        "id": "zu_hydx51TOO"
      },
      "outputs": [],
      "source": [
        "..."
      ]
    },
    {
      "cell_type": "markdown",
      "metadata": {
        "id": "Qy60qLjT5fc1"
      },
      "source": [
        "## Lấy ra các trận đấu có từ 3 bàn thắng trở lên (ghi ra tên cặp đấu)"
      ]
    },
    {
      "cell_type": "code",
      "execution_count": null,
      "metadata": {
        "id": "WV8o0Gp_5fCA"
      },
      "outputs": [],
      "source": [
        "..."
      ]
    },
    {
      "cell_type": "markdown",
      "metadata": {
        "id": "GlqAhl_Q5zSk"
      },
      "source": [
        "## Thống kê các sân vận động diễn ra các trận đấu và hiển thị tỷ lệ phần trăm của các sân vận động bằng biểu đồ thích hợp"
      ]
    },
    {
      "cell_type": "code",
      "execution_count": null,
      "metadata": {
        "id": "u68SdjY25y8F"
      },
      "outputs": [],
      "source": [
        "..."
      ]
    },
    {
      "cell_type": "markdown",
      "metadata": {
        "id": "xLVi1YWBu0ya"
      },
      "source": [
        "## Lấy ra tên của các đội tham dự giải đấu"
      ]
    },
    {
      "cell_type": "code",
      "execution_count": null,
      "metadata": {
        "id": "-7NR6aOau0cs"
      },
      "outputs": [],
      "source": [
        "..."
      ]
    },
    {
      "cell_type": "markdown",
      "metadata": {
        "id": "Z-BWfpm1wOzg"
      },
      "source": [
        "## Lấy ra số bàn thắng được ghi bởi các đội"
      ]
    },
    {
      "cell_type": "code",
      "execution_count": null,
      "metadata": {
        "id": "FrcC8LX2wOP5"
      },
      "outputs": [],
      "source": [
        "..."
      ]
    },
    {
      "cell_type": "markdown",
      "metadata": {
        "id": "HGqkkm2VwXSQ"
      },
      "source": [
        "## Vẽ biểu đồ thể hiện số bàn thắng được ghi bởi mỗi đội (tự chọn kiểu biểu đồ phù hợp)"
      ]
    },
    {
      "cell_type": "code",
      "execution_count": null,
      "metadata": {
        "id": "IcAtUHd9wl3g"
      },
      "outputs": [],
      "source": [
        "..."
      ]
    },
    {
      "cell_type": "markdown",
      "metadata": {
        "id": "yDNxS4mawqj5"
      },
      "source": [
        "##Thống kê số lượng bàn thắng được ghi bởi các cầu thủ Argentina bằng biểu đồ tròn\n",
        "\n",
        "- Yêu cầu phải có tiêu đề cho biểu đồ, chú thích\n",
        "- Có tỷ lệ phần trăm cho từng cầu thủ\n",
        "- Tách phần của Alexis Mac Allister ra khỏi biểu đồ"
      ]
    },
    {
      "cell_type": "code",
      "execution_count": null,
      "metadata": {
        "id": "rjtXSK90wqLh"
      },
      "outputs": [],
      "source": [
        "..."
      ]
    },
    {
      "cell_type": "markdown",
      "metadata": {
        "id": "QOXoBXL43jJf"
      },
      "source": [
        "## Thống kê tỷ lệ ra sân của các cầu thủ Pháp bằng biểu đồ"
      ]
    },
    {
      "cell_type": "code",
      "execution_count": null,
      "metadata": {
        "id": "cAKkCs593idg"
      },
      "outputs": [],
      "source": [
        "..."
      ]
    },
    {
      "cell_type": "markdown",
      "metadata": {
        "id": "uPnOdGBjx6C9"
      },
      "source": [
        "## Thống kê danh sách top 10 vua phá lưới của giải đấu\n",
        "- Nếu trường hợp hai cầu thủ có cùng số bàn thắng thì chọn cầu thủ có số lượng kiến tạo nhiều hơn\n",
        "- Sử dụng biểu đồ thích hợp để hiển thị số bàn thắng của top 10"
      ]
    },
    {
      "cell_type": "code",
      "execution_count": null,
      "metadata": {
        "id": "yj6GXKfzxetv"
      },
      "outputs": [],
      "source": [
        "..."
      ]
    },
    {
      "cell_type": "markdown",
      "metadata": {
        "id": "DINXtSC37Vyb"
      },
      "source": [
        "# OpenCV"
      ]
    },
    {
      "cell_type": "markdown",
      "metadata": {
        "id": "O4IWMBszI00S"
      },
      "source": [
        "## Tìm bounding box cho các chữ số trong bức ảnh sau: [ảnh](https://1.bp.blogspot.com/-fGR7t6RnXZs/Uv5kdmT89_I/AAAAAAAAAjg/zZHfaCqnkak/s1600/freeDrawExport_012314055352.png)\n",
        "\n",
        "- Gợi ý các hàm sử dụng:\n",
        "  - cv2.threshold\n",
        "  - cv2.findContours\n",
        "  - cv2.contourArea\n",
        "  - cv2.boundingRect\n",
        "\n",
        "Và các hàm trong thư viện OpenCV đã học hôm trước"
      ]
    },
    {
      "cell_type": "code",
      "execution_count": null,
      "metadata": {
        "id": "SX_1jq9hI0ST"
      },
      "outputs": [],
      "source": [
        "..."
      ]
    },
    {
      "cell_type": "markdown",
      "metadata": {
        "id": "xAgVjAuXGgC-"
      },
      "source": [
        "Thực hiện vẽ logo của CLB Tin Học HIT bằng OpenCV: [Vẽ logo](https://docs.google.com/document/d/1Wfg10lmyVPzGpCa6BWcMd3fpjYD3OGohoyjzy_JfcWc/edit?usp=sharing)"
      ]
    },
    {
      "cell_type": "code",
      "execution_count": null,
      "metadata": {
        "id": "HK76jYc97U7q"
      },
      "outputs": [],
      "source": [
        "..."
      ]
    },
    {
      "cell_type": "markdown",
      "metadata": {
        "id": "DqdlU8_iZoof"
      },
      "source": [
        "Thực hiện các yêu cầu sau đối với ảnh logo mà bạn vừa vẽ:\n",
        "- Làm mịn ảnh\n",
        "- Làm mờ ảnh\n",
        "\n",
        "Sử dụng các hàm gợi ý sau:\n",
        "- cv2.filter2D\n",
        "- cv2.blur\n",
        "- cv2.GaussianBlur\n",
        "- cv2.medianBlur\n",
        "- cv2.bilateralFilter"
      ]
    },
    {
      "cell_type": "code",
      "execution_count": null,
      "metadata": {
        "id": "OzCWehx5ZnIK"
      },
      "outputs": [],
      "source": [
        "..."
      ]
    }
  ],
  "metadata": {
    "accelerator": "GPU",
    "colab": {
      "gpuType": "T4",
      "provenance": []
    },
    "kernelspec": {
      "display_name": "Python 3",
      "name": "python3"
    },
    "language_info": {
      "codemirror_mode": {
        "name": "ipython",
        "version": 3
      },
      "file_extension": ".py",
      "mimetype": "text/x-python",
      "name": "python",
      "nbconvert_exporter": "python",
      "pygments_lexer": "ipython3",
      "version": "3.8.17"
    }
  },
  "nbformat": 4,
  "nbformat_minor": 0
}
