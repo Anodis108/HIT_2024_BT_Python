{
 "cells": [
  {
   "cell_type": "markdown",
   "metadata": {},
   "source": [
    "- underscore: sử dụng dấu gạch chân giữa các từ, tất cả các từ đều viết thường, ví dụ: $this_is_my_variable.\n",
    "- camelCase: giống như cách viết của nó, từ đầu tiên viết thường, các từ tiếp theo viết hoa chữ cái đầu, ví dụ $thisIsMyVariable.\n",
    "- PascalCase: viết hoa tất cả các chữ cái đầu, ví dụ $ThisIsMyVariable."
   ]
  },
  {
   "cell_type": "markdown",
   "metadata": {},
   "source": [
    "# Đặt tên\n",
    "+ Tên lớp đặt theo PascalCase, ví dụ: UserClass, CategoryClass…\n",
    "+ Tên hàm và phương thức sử dụng camelCase, ví dụ getUser, getCategory…\n",
    "+ Tên biến cũng sử dụng camelCase loginUser,loginUser,categoryList…\n",
    "+ Tên hằng số thì đặc biệt, viết hoa hết và cách nhau bởi dấu gạch dưới DISCOUNT_PERCENT, LIMIT_RATE…\n",
    "+ Tên bảng, tên cột trong Database sử dụng underscore và sử dụng danh từ số nhiều, ví dụ bảng oauth_clients, oauth_refresh_tokens.\n",
    "+ Tên phần tử trong HTML, ví dụ khi bạn sử dụng Vue.js, React… tạo ra thì nó sẽ có dạng KebabCase, ví dụ <my-component>."
   ]
  },
  {
   "cell_type": "markdown",
   "metadata": {},
   "source": [
    "# Các biến trong tính chất đóng gói python:\n",
    "\n",
    "Bảng so sánh các kiểu biến trong tính đóng gói Python:\n",
    "\n",
    "|Thuộc tính|\tPublic|\tPrivate|\tProtected|\n",
    "|---|---|---|---|\n",
    "|Phạm vi truy cập|\tBất kỳ đâu|\tTrong class\t|Trong class và class kế thừa|\n",
    "|Ký hiệu|\tChữ cái hoặc _|\t__|\t_|\n",
    "|Ví dụ|\ttu_so|\t__tu|\t_tu|\n",
    "|Truy cập trực tiếp|\tCó|\tKhông|\tKhông|\n",
    "|Truy cập trong class con|\tCó|\tKhông|\tCó|\n",
    "\n",
    "**Public**: Có thể truy cập và sửa đổi từ bất kỳ đâu trong chương trình.\n",
    "\n",
    "**Private**: Chỉ có thể truy cập và sửa đổi trong class mà nó được khai báo.\n",
    "\n",
    "**Protected**: Chỉ có thể truy cập và sửa đổi trong class và các class kế thừa từ nó.\n"
   ]
  }
 ],
 "metadata": {
  "language_info": {
   "name": "python"
  }
 },
 "nbformat": 4,
 "nbformat_minor": 2
}
